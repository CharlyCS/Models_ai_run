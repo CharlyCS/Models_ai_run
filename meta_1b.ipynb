{
 "cells": [
  {
   "cell_type": "code",
   "execution_count": 1,
   "metadata": {},
   "outputs": [
    {
     "name": "stdout",
     "output_type": "stream",
     "text": [
      "/home/glexco/Documents/Code/meta_1b\n"
     ]
    }
   ],
   "source": [
    "import os\n",
    "path = os.getcwd()\n",
    "print(path)"
   ]
  },
  {
   "cell_type": "code",
   "execution_count": 2,
   "metadata": {},
   "outputs": [
    {
     "name": "stderr",
     "output_type": "stream",
     "text": [
      "/home/glexco/.local/lib/python3.10/site-packages/tqdm/auto.py:21: TqdmWarning: IProgress not found. Please update jupyter and ipywidgets. See https://ipywidgets.readthedocs.io/en/stable/user_install.html\n",
      "  from .autonotebook import tqdm as notebook_tqdm\n"
     ]
    },
    {
     "data": {
      "text/plain": [
       "'prompt = (\\n    \"Eres un poeta que escribe mensajes románticos y poemas. Manda un saludo a la enamorada de quien le pregunta y crea un poema para ella. \"\\n)'"
      ]
     },
     "execution_count": 2,
     "metadata": {},
     "output_type": "execute_result"
    }
   ],
   "source": [
    "import torch\n",
    "import os\n",
    "import time\n",
    "from transformers import pipeline\n",
    "#current_file_path = os.path.abspath(__file__)\n",
    "current_directory = os.getcwd()\n",
    "pipe = pipeline(\n",
    "    \"text-generation\", \n",
    "    model=current_directory, \n",
    "    torch_dtype=torch.bfloat16, \n",
    "    device_map=\"auto\",\n",
    "    temperature=0.2,\n",
    "    max_new_tokens=200,\n",
    "    top_k=5,\n",
    "    top_p=0.95) \n",
    "'''\n",
    "    temperature=0.9,     # Ajusta la temperatura para respuestas más coherentes\n",
    "    top_k=100,            # Limita las opciones de token\n",
    "    top_p=0.95'''\n",
    "\n",
    "'''prompt = (\n",
    "    \"Eres un poeta que escribe mensajes románticos y poemas. Manda un saludo a la enamorada de quien le pregunta y crea un poema para ella. \"\n",
    ")'''\n"
   ]
  },
  {
   "cell_type": "code",
   "execution_count": 3,
   "metadata": {},
   "outputs": [
    {
     "name": "stderr",
     "output_type": "stream",
     "text": [
      "Setting `pad_token_id` to `eos_token_id`:None for open-end generation.\n",
      "Setting `pad_token_id` to `eos_token_id`:None for open-end generation.\n"
     ]
    },
    {
     "name": "stdout",
     "output_type": "stream",
     "text": [
      "El número 9 es mayor que el 9,9.\n",
      "Tiempo de ejecución: 0.9244 segundos\n"
     ]
    },
    {
     "name": "stderr",
     "output_type": "stream",
     "text": [
      "Setting `pad_token_id` to `eos_token_id`:None for open-end generation.\n"
     ]
    },
    {
     "name": "stdout",
     "output_type": "stream",
     "text": [
      "El número 9 es mayor que el 9,9.\n",
      "Tiempo de ejecución: 0.8452 segundos\n"
     ]
    },
    {
     "name": "stderr",
     "output_type": "stream",
     "text": [
      "Setting `pad_token_id` to `eos_token_id`:None for open-end generation.\n"
     ]
    },
    {
     "name": "stdout",
     "output_type": "stream",
     "text": [
      "El número 9 es mayor que el 9,9.\n",
      "Tiempo de ejecución: 0.8387 segundos\n",
      "El número 9 es mayor que el 11.\n",
      "Tiempo de ejecución: 0.7325 segundos\n"
     ]
    }
   ],
   "source": [
    "messageStructure1 = [\n",
    "    {\"role\": \"system\", \"content\": \"Eres un asistente multitareas capaz de responder las dudas con claridad y brindar soporte si te lo piden, debes responder a todas las preguntas sin repetir la misma pregunta en tu respuesta, tus respuestas deben ser concisas. Limita tus respuestas a menos de 100 palabras.\"},\n",
    "    {\"role\": \"user\", \"content\": \"Dime cual es el sentido de la vida\"},\n",
    "]\n",
    "\n",
    "#Escribe una cancion para mi enamorada Maricielo\"\n",
    "for i in range(4):\n",
    "    start = time.time()\n",
    "    question = \"How to solve a quadratic equation?\"\n",
    "    #input_text = prompt + question  # Combina el prompt con la pregunta\n",
    "    #output = pipe(input_text)\n",
    "    output = pipe(messageStructure1)\n",
    "    #print(\"La pregunta es: \" + question)\n",
    "    #print(output[0]['generated_text'])\n",
    "    response=output[0]['generated_text'][-1]\n",
    "    print(response['content'])\n",
    "    end = time.time()\n",
    "    print(f\"Tiempo de ejecución: {end-start:.4f} segundos\")     "
   ]
  },
  {
   "cell_type": "code",
   "execution_count": null,
   "metadata": {},
   "outputs": [],
   "source": []
  }
 ],
 "metadata": {
  "kernelspec": {
   "display_name": "Python 3",
   "language": "python",
   "name": "python3"
  },
  "language_info": {
   "codemirror_mode": {
    "name": "ipython",
    "version": 3
   },
   "file_extension": ".py",
   "mimetype": "text/x-python",
   "name": "python",
   "nbconvert_exporter": "python",
   "pygments_lexer": "ipython3",
   "version": "3.10.12"
  }
 },
 "nbformat": 4,
 "nbformat_minor": 2
}
